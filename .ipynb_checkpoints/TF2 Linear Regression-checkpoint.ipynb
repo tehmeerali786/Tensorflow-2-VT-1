{
 "cells": [
  {
   "cell_type": "code",
   "execution_count": 1,
   "metadata": {
    "colab": {
     "base_uri": "https://localhost:8080/",
     "height": 102
    },
    "colab_type": "code",
    "executionInfo": {
     "elapsed": 52174,
     "status": "ok",
     "timestamp": 1584487877764,
     "user": {
      "displayName": "Tehmeer Ali Paryani",
      "photoUrl": "https://lh3.googleusercontent.com/a-/AOh14GijNXLk85SdD3X_5KeoXyy_sO4r2mceV5eGOQe9DA=s64",
      "userId": "06390511036018917120"
     },
     "user_tz": -300
    },
    "id": "VlFfF_be_7Av",
    "outputId": "835a8cc6-c791-4165-a677-779e3fee0286"
   },
   "outputs": [
    {
     "name": "stdout",
     "output_type": "stream",
     "text": [
      "\u001b[K     |████████████████████████████████| 87.9MB 43kB/s \n",
      "\u001b[K     |████████████████████████████████| 3.1MB 47.2MB/s \n",
      "\u001b[K     |████████████████████████████████| 501kB 43.0MB/s \n",
      "\u001b[31mERROR: tensorflow-federated 0.12.0 has requirement tensorflow~=2.1.0, but you'll have tensorflow 2.0.0b1 which is incompatible.\u001b[0m\n",
      "\u001b[31mERROR: tensorflow-federated 0.12.0 has requirement tensorflow-addons~=0.7.0, but you'll have tensorflow-addons 0.8.3 which is incompatible.\u001b[0m\n",
      "\u001b[?25h"
     ]
    }
   ],
   "source": [
    "# Install Tensorflow\n",
    "!pip install -q tensorflow==2.0.0-beta1"
   ]
  },
  {
   "cell_type": "code",
   "execution_count": 2,
   "metadata": {
    "colab": {
     "base_uri": "https://localhost:8080/",
     "height": 405
    },
    "colab_type": "code",
    "executionInfo": {
     "elapsed": 2711,
     "status": "error",
     "timestamp": 1584487887187,
     "user": {
      "displayName": "Tehmeer Ali Paryani",
      "photoUrl": "https://lh3.googleusercontent.com/a-/AOh14GijNXLk85SdD3X_5KeoXyy_sO4r2mceV5eGOQe9DA=s64",
      "userId": "06390511036018917120"
     },
     "user_tz": -300
    },
    "id": "WSm6Lft_AKmJ",
    "outputId": "61f55574-33a9-4193-ba7f-d76b2fbe432a"
   },
   "outputs": [
    {
     "name": "stderr",
     "output_type": "stream",
     "text": [
      "/usr/local/lib/python3.6/dist-packages/tensorflow/python/framework/dtypes.py:516: FutureWarning: Passing (type, 1) or '1type' as a synonym of type is deprecated; in a future version of numpy, it will be understood as (type, (1,)) / '(1,)type'.\n",
      "  _np_qint8 = np.dtype([(\"qint8\", np.int8, 1)])\n",
      "/usr/local/lib/python3.6/dist-packages/tensorflow/python/framework/dtypes.py:517: FutureWarning: Passing (type, 1) or '1type' as a synonym of type is deprecated; in a future version of numpy, it will be understood as (type, (1,)) / '(1,)type'.\n",
      "  _np_quint8 = np.dtype([(\"quint8\", np.uint8, 1)])\n",
      "/usr/local/lib/python3.6/dist-packages/tensorflow/python/framework/dtypes.py:518: FutureWarning: Passing (type, 1) or '1type' as a synonym of type is deprecated; in a future version of numpy, it will be understood as (type, (1,)) / '(1,)type'.\n",
      "  _np_qint16 = np.dtype([(\"qint16\", np.int16, 1)])\n",
      "/usr/local/lib/python3.6/dist-packages/tensorflow/python/framework/dtypes.py:519: FutureWarning: Passing (type, 1) or '1type' as a synonym of type is deprecated; in a future version of numpy, it will be understood as (type, (1,)) / '(1,)type'.\n",
      "  _np_quint16 = np.dtype([(\"quint16\", np.uint16, 1)])\n",
      "/usr/local/lib/python3.6/dist-packages/tensorflow/python/framework/dtypes.py:520: FutureWarning: Passing (type, 1) or '1type' as a synonym of type is deprecated; in a future version of numpy, it will be understood as (type, (1,)) / '(1,)type'.\n",
      "  _np_qint32 = np.dtype([(\"qint32\", np.int32, 1)])\n",
      "/usr/local/lib/python3.6/dist-packages/tensorflow/python/framework/dtypes.py:525: FutureWarning: Passing (type, 1) or '1type' as a synonym of type is deprecated; in a future version of numpy, it will be understood as (type, (1,)) / '(1,)type'.\n",
      "  np_resource = np.dtype([(\"resource\", np.ubyte, 1)])\n"
     ]
    },
    {
     "ename": "NameError",
     "evalue": "ignored",
     "output_type": "error",
     "traceback": [
      "\u001b[0;31m---------------------------------------------------------------------------\u001b[0m",
      "\u001b[0;31mNameError\u001b[0m                                 Traceback (most recent call last)",
      "\u001b[0;32m<ipython-input-2-68d9d78451f9>\u001b[0m in \u001b[0;36m<module>\u001b[0;34m()\u001b[0m\n\u001b[1;32m      1\u001b[0m \u001b[0;32mimport\u001b[0m \u001b[0mtensorflow\u001b[0m \u001b[0;32mas\u001b[0m \u001b[0mtf\u001b[0m\u001b[0;34m\u001b[0m\u001b[0;34m\u001b[0m\u001b[0m\n\u001b[0;32m----> 2\u001b[0;31m \u001b[0mprint\u001b[0m\u001b[0;34m(\u001b[0m\u001b[0m__version__\u001b[0m\u001b[0;34m)\u001b[0m\u001b[0;34m\u001b[0m\u001b[0;34m\u001b[0m\u001b[0m\n\u001b[0m",
      "\u001b[0;31mNameError\u001b[0m: name '__version__' is not defined"
     ]
    }
   ],
   "source": [
    "import tensorflow as tf\n",
    "print(__version__)"
   ]
  },
  {
   "cell_type": "code",
   "execution_count": 0,
   "metadata": {
    "colab": {
     "base_uri": "https://localhost:8080/",
     "height": 34
    },
    "colab_type": "code",
    "executionInfo": {
     "elapsed": 927,
     "status": "ok",
     "timestamp": 1584222325889,
     "user": {
      "displayName": "Tehmeer Ali Paryani",
      "photoUrl": "https://lh3.googleusercontent.com/a-/AOh14GijNXLk85SdD3X_5KeoXyy_sO4r2mceV5eGOQe9DA=s64",
      "userId": "06390511036018917120"
     },
     "user_tz": -300
    },
    "id": "7Cs_k8VOAgjg",
    "outputId": "9f5738b5-771d-4e95-f27f-6cb053a2b1b3"
   },
   "outputs": [
    {
     "name": "stdout",
     "output_type": "stream",
     "text": [
      "2.0.0-beta1\n"
     ]
    }
   ],
   "source": [
    "print(tf.__version__)"
   ]
  },
  {
   "cell_type": "code",
   "execution_count": 0,
   "metadata": {
    "colab": {},
    "colab_type": "code",
    "id": "_ahSBxBXAkhw"
   },
   "outputs": [],
   "source": [
    "import pandas as pd\n",
    "import numpy as np\n",
    "import matplotlib.pyplot as plt"
   ]
  },
  {
   "cell_type": "code",
   "execution_count": 0,
   "metadata": {
    "colab": {},
    "colab_type": "code",
    "id": "ZIb7fdSpCnau"
   },
   "outputs": [],
   "source": [
    "# Load in the data \n",
    "data = pd.read_csv('moore.csv', header=None).values\n",
    "X = data[:,0].reshape(-1, 1) # make it a 2-D array of size N x D where D = 1\n",
    "Y = data[:, 1]"
   ]
  },
  {
   "cell_type": "code",
   "execution_count": 0,
   "metadata": {
    "colab": {
     "base_uri": "https://localhost:8080/",
     "height": 293
    },
    "colab_type": "code",
    "executionInfo": {
     "elapsed": 856,
     "status": "ok",
     "timestamp": 1584223518021,
     "user": {
      "displayName": "Tehmeer Ali Paryani",
      "photoUrl": "https://lh3.googleusercontent.com/a-/AOh14GijNXLk85SdD3X_5KeoXyy_sO4r2mceV5eGOQe9DA=s64",
      "userId": "06390511036018917120"
     },
     "user_tz": -300
    },
    "id": "RwWggTFsDiPm",
    "outputId": "6779f11a-28d7-40ee-8ce3-6eda4ee9d282"
   },
   "outputs": [
    {
     "data": {
      "text/plain": [
       "<matplotlib.collections.PathCollection at 0x7f2d4b8766a0>"
      ]
     },
     "execution_count": 7,
     "metadata": {
      "tags": []
     },
     "output_type": "execute_result"
    },
    {
     "data": {
      "image/png": "[encoded data removed]",
      "text/plain": [
       "<Figure size 432x288 with 1 Axes>"
      ]
     },
     "metadata": {
      "tags": []
     },
     "output_type": "display_data"
    }
   ],
   "source": [
    "# Plot the data - it is exponential!\n",
    "plt.scatter(X, Y)"
   ]
  },
  {
   "cell_type": "code",
   "execution_count": 0,
   "metadata": {
    "colab": {
     "base_uri": "https://localhost:8080/",
     "height": 85
    },
    "colab_type": "code",
    "executionInfo": {
     "elapsed": 860,
     "status": "ok",
     "timestamp": 1584223644319,
     "user": {
      "displayName": "Tehmeer Ali Paryani",
      "photoUrl": "https://lh3.googleusercontent.com/a-/AOh14GijNXLk85SdD3X_5KeoXyy_sO4r2mceV5eGOQe9DA=s64",
      "userId": "06390511036018917120"
     },
     "user_tz": -300
    },
    "id": "XzzjSr93FD8H",
    "outputId": "612eb0da-b5f9-4282-c3c9-21639a0b35eb"
   },
   "outputs": [
    {
     "data": {
      "text/plain": [
       "array([[       2017, 18000000000],\n",
       "       [       2017, 19200000000],\n",
       "       [       2018,  8876000000],\n",
       "       [       2018, 23600000000]])"
      ]
     },
     "execution_count": 12,
     "metadata": {
      "tags": []
     },
     "output_type": "execute_result"
    }
   ],
   "source": [
    "data[-5:-1]"
   ]
  },
  {
   "cell_type": "code",
   "execution_count": 0,
   "metadata": {
    "colab": {
     "base_uri": "https://localhost:8080/",
     "height": 85
    },
    "colab_type": "code",
    "executionInfo": {
     "elapsed": 901,
     "status": "ok",
     "timestamp": 1584223741842,
     "user": {
      "displayName": "Tehmeer Ali Paryani",
      "photoUrl": "https://lh3.googleusercontent.com/a-/AOh14GijNXLk85SdD3X_5KeoXyy_sO4r2mceV5eGOQe9DA=s64",
      "userId": "06390511036018917120"
     },
     "user_tz": -300
    },
    "id": "P51cgv5iFPjx",
    "outputId": "8d3f7ff9-6504-46fe-b673-3547dede777f"
   },
   "outputs": [
    {
     "data": {
      "text/plain": [
       "array([[1972],\n",
       "       [1973],\n",
       "       [1973],\n",
       "       [1974]])"
      ]
     },
     "execution_count": 14,
     "metadata": {
      "tags": []
     },
     "output_type": "execute_result"
    }
   ],
   "source": [
    "X[1:5]"
   ]
  },
  {
   "cell_type": "code",
   "execution_count": 0,
   "metadata": {
    "colab": {
     "base_uri": "https://localhost:8080/",
     "height": 282
    },
    "colab_type": "code",
    "executionInfo": {
     "elapsed": 924,
     "status": "ok",
     "timestamp": 1584223830668,
     "user": {
      "displayName": "Tehmeer Ali Paryani",
      "photoUrl": "https://lh3.googleusercontent.com/a-/AOh14GijNXLk85SdD3X_5KeoXyy_sO4r2mceV5eGOQe9DA=s64",
      "userId": "06390511036018917120"
     },
     "user_tz": -300
    },
    "id": "b13Q9JtSF7n_",
    "outputId": "df2d7917-1f7d-4b08-bb5f-de2dd5e152ce"
   },
   "outputs": [
    {
     "data": {
      "text/plain": [
       "<matplotlib.collections.PathCollection at 0x7f2d489ece48>"
      ]
     },
     "execution_count": 15,
     "metadata": {
      "tags": []
     },
     "output_type": "execute_result"
    },
    {
     "data": {
      "image/png": "[encoded data removed]",
      "text/plain": [
       "<Figure size 432x288 with 1 Axes>"
      ]
     },
     "metadata": {
      "tags": []
     },
     "output_type": "display_data"
    }
   ],
   "source": [
    "# Since we want a linear model, let's take the log\n",
    "Y = np.log(Y)\n",
    "plt.scatter(X, Y)\n",
    "# that's better"
   ]
  },
  {
   "cell_type": "code",
   "execution_count": 0,
   "metadata": {
    "colab": {},
    "colab_type": "code",
    "id": "dyRGtoLZGTv9"
   },
   "outputs": [],
   "source": [
    "# Let's also center the X data so the values are not too large\n",
    "# We could scale it too but then we do have to reverse the transformation later\n",
    "X = X - X.mean()"
   ]
  },
  {
   "cell_type": "code",
   "execution_count": 0,
   "metadata": {
    "colab": {},
    "colab_type": "code",
    "id": "kMYG4G32HVR1"
   },
   "outputs": [],
   "source": [
    "# Now create our Tensorflow model\n",
    "model = tf.keras.models.Sequential([\n",
    "                                    \n",
    "      tf.keras.layers.Input(shape=(1,)),\n",
    "      tf.keras.layers.Dense(1)\n",
    "])"
   ]
  },
  {
   "cell_type": "code",
   "execution_count": 0,
   "metadata": {
    "colab": {},
    "colab_type": "code",
    "id": "aKhbv0j4Hu2Z"
   },
   "outputs": [],
   "source": [
    "model.compile(optimizer=tf.keras.optimizers.SGD(0.001, 0.9), loss='mse')"
   ]
  },
  {
   "cell_type": "code",
   "execution_count": 0,
   "metadata": {
    "colab": {},
    "colab_type": "code",
    "id": "sYKn3zBhIP4H"
   },
   "outputs": [],
   "source": [
    "# learning rate scheduler \n",
    "def schedule(epoch, lr):\n",
    "  if epoch >= 50:\n",
    "    return 0.0001\n",
    "  return 0.001\n",
    "\n",
    "scheduler = tf.keras.callbacks.LearningRateScheduler(schedule)"
   ]
  },
  {
   "cell_type": "code",
   "execution_count": 0,
   "metadata": {
    "colab": {
     "base_uri": "https://localhost:8080/",
     "height": 1000
    },
    "colab_type": "code",
    "executionInfo": {
     "elapsed": 4399,
     "status": "ok",
     "timestamp": 1584224652310,
     "user": {
      "displayName": "Tehmeer Ali Paryani",
      "photoUrl": "https://lh3.googleusercontent.com/a-/AOh14GijNXLk85SdD3X_5KeoXyy_sO4r2mceV5eGOQe9DA=s64",
      "userId": "06390511036018917120"
     },
     "user_tz": -300
    },
    "id": "c-VlibMNIvwl",
    "outputId": "6db72eb2-5940-4c5d-bdd0-3a0b41985a19"
   },
   "outputs": [
    {
     "name": "stdout",
     "output_type": "stream",
     "text": [
      "Train on 162 samples\n",
      "Epoch 1/200\n",
      "162/162 [==============================] - 0s 497us/sample - loss: 315.9991\n",
      "Epoch 2/200\n",
      "162/162 [==============================] - 0s 83us/sample - loss: 295.6122\n",
      "Epoch 3/200\n",
      "162/162 [==============================] - 0s 80us/sample - loss: 282.4866\n",
      "Epoch 4/200\n",
      "162/162 [==============================] - 0s 86us/sample - loss: 245.3443\n",
      "Epoch 5/200\n",
      "162/162 [==============================] - 0s 86us/sample - loss: 184.4711\n",
      "Epoch 6/200\n",
      "162/162 [==============================] - 0s 85us/sample - loss: 167.6874\n",
      "Epoch 7/200\n",
      "162/162 [==============================] - 0s 93us/sample - loss: 99.4901\n",
      "Epoch 8/200\n",
      "162/162 [==============================] - 0s 98us/sample - loss: 68.3792\n",
      "Epoch 9/200\n",
      "162/162 [==============================] - 0s 77us/sample - loss: 46.4574\n",
      "Epoch 10/200\n",
      "162/162 [==============================] - 0s 79us/sample - loss: 37.4657\n",
      "Epoch 11/200\n",
      "162/162 [==============================] - 0s 76us/sample - loss: 28.8719\n",
      "Epoch 12/200\n",
      "162/162 [==============================] - 0s 66us/sample - loss: 25.3035\n",
      "Epoch 13/200\n",
      "162/162 [==============================] - 0s 85us/sample - loss: 17.1119\n",
      "Epoch 14/200\n",
      "162/162 [==============================] - 0s 112us/sample - loss: 10.4277\n",
      "Epoch 15/200\n",
      "162/162 [==============================] - 0s 104us/sample - loss: 9.9936\n",
      "Epoch 16/200\n",
      "162/162 [==============================] - 0s 70us/sample - loss: 6.1044\n",
      "Epoch 17/200\n",
      "162/162 [==============================] - 0s 71us/sample - loss: 4.7866\n",
      "Epoch 18/200\n",
      "162/162 [==============================] - 0s 71us/sample - loss: 3.2726\n",
      "Epoch 19/200\n",
      "162/162 [==============================] - 0s 76us/sample - loss: 3.4216\n",
      "Epoch 20/200\n",
      "162/162 [==============================] - 0s 74us/sample - loss: 2.7556\n",
      "Epoch 21/200\n",
      "162/162 [==============================] - 0s 93us/sample - loss: 2.8537\n",
      "Epoch 22/200\n",
      "162/162 [==============================] - 0s 65us/sample - loss: 1.9764\n",
      "Epoch 23/200\n",
      "162/162 [==============================] - 0s 87us/sample - loss: 1.6835\n",
      "Epoch 24/200\n",
      "162/162 [==============================] - 0s 77us/sample - loss: 1.3002\n",
      "Epoch 25/200\n",
      "162/162 [==============================] - 0s 90us/sample - loss: 1.4773\n",
      "Epoch 26/200\n",
      "162/162 [==============================] - 0s 85us/sample - loss: 1.2031\n",
      "Epoch 27/200\n",
      "162/162 [==============================] - 0s 75us/sample - loss: 1.2087\n",
      "Epoch 28/200\n",
      "162/162 [==============================] - 0s 109us/sample - loss: 1.0469\n",
      "Epoch 29/200\n",
      "162/162 [==============================] - 0s 92us/sample - loss: 0.9854\n",
      "Epoch 30/200\n",
      "162/162 [==============================] - 0s 86us/sample - loss: 1.1423\n",
      "Epoch 31/200\n",
      "162/162 [==============================] - 0s 84us/sample - loss: 1.0811\n",
      "Epoch 32/200\n",
      "162/162 [==============================] - 0s 71us/sample - loss: 1.5572\n",
      "Epoch 33/200\n",
      "162/162 [==============================] - 0s 63us/sample - loss: 1.1487\n",
      "Epoch 34/200\n",
      "162/162 [==============================] - 0s 83us/sample - loss: 1.0913\n",
      "Epoch 35/200\n",
      "162/162 [==============================] - 0s 95us/sample - loss: 1.0250\n",
      "Epoch 36/200\n",
      "162/162 [==============================] - 0s 94us/sample - loss: 1.2259\n",
      "Epoch 37/200\n",
      "162/162 [==============================] - 0s 91us/sample - loss: 1.1384\n",
      "Epoch 38/200\n",
      "162/162 [==============================] - 0s 75us/sample - loss: 1.1732\n",
      "Epoch 39/200\n",
      "162/162 [==============================] - 0s 95us/sample - loss: 1.0096\n",
      "Epoch 40/200\n",
      "162/162 [==============================] - 0s 76us/sample - loss: 0.8886\n",
      "Epoch 41/200\n",
      "162/162 [==============================] - 0s 70us/sample - loss: 0.9420\n",
      "Epoch 42/200\n",
      "162/162 [==============================] - 0s 72us/sample - loss: 0.8968\n",
      "Epoch 43/200\n",
      "162/162 [==============================] - 0s 79us/sample - loss: 0.9426\n",
      "Epoch 44/200\n",
      "162/162 [==============================] - 0s 63us/sample - loss: 1.2792\n",
      "Epoch 45/200\n",
      "162/162 [==============================] - 0s 77us/sample - loss: 1.0176\n",
      "Epoch 46/200\n",
      "162/162 [==============================] - 0s 63us/sample - loss: 1.0469\n",
      "Epoch 47/200\n",
      "162/162 [==============================] - 0s 63us/sample - loss: 1.2172\n",
      "Epoch 48/200\n",
      "162/162 [==============================] - 0s 86us/sample - loss: 1.2257\n",
      "Epoch 49/200\n",
      "162/162 [==============================] - 0s 167us/sample - loss: 0.9128\n",
      "Epoch 50/200\n",
      "162/162 [==============================] - 0s 65us/sample - loss: 1.0076\n",
      "Epoch 51/200\n",
      "162/162 [==============================] - 0s 68us/sample - loss: 1.5204\n",
      "Epoch 52/200\n",
      "162/162 [==============================] - 0s 74us/sample - loss: 2.6865\n",
      "Epoch 53/200\n",
      "162/162 [==============================] - 0s 85us/sample - loss: 1.1698\n",
      "Epoch 54/200\n",
      "162/162 [==============================] - 0s 88us/sample - loss: 1.0108\n",
      "Epoch 55/200\n",
      "162/162 [==============================] - 0s 72us/sample - loss: 1.1608\n",
      "Epoch 56/200\n",
      "162/162 [==============================] - 0s 70us/sample - loss: 0.9470\n",
      "Epoch 57/200\n",
      "162/162 [==============================] - 0s 74us/sample - loss: 0.8652\n",
      "Epoch 58/200\n",
      "162/162 [==============================] - 0s 81us/sample - loss: 0.8984\n",
      "Epoch 59/200\n",
      "162/162 [==============================] - 0s 75us/sample - loss: 0.8892\n",
      "Epoch 60/200\n",
      "162/162 [==============================] - 0s 101us/sample - loss: 0.8716\n",
      "Epoch 61/200\n",
      "162/162 [==============================] - 0s 118us/sample - loss: 0.8727\n",
      "Epoch 62/200\n",
      "162/162 [==============================] - 0s 90us/sample - loss: 0.8714\n",
      "Epoch 63/200\n",
      "162/162 [==============================] - 0s 127us/sample - loss: 0.8828\n",
      "Epoch 64/200\n",
      "162/162 [==============================] - 0s 118us/sample - loss: 0.8675\n",
      "Epoch 65/200\n",
      "162/162 [==============================] - 0s 167us/sample - loss: 0.8739\n",
      "Epoch 66/200\n",
      "162/162 [==============================] - 0s 121us/sample - loss: 0.8721\n",
      "Epoch 67/200\n",
      "162/162 [==============================] - 0s 143us/sample - loss: 0.8705\n",
      "Epoch 68/200\n",
      "162/162 [==============================] - 0s 112us/sample - loss: 0.8734\n",
      "Epoch 69/200\n",
      "162/162 [==============================] - 0s 97us/sample - loss: 0.8718\n",
      "Epoch 70/200\n",
      "162/162 [==============================] - 0s 110us/sample - loss: 0.8707\n",
      "Epoch 71/200\n",
      "162/162 [==============================] - 0s 78us/sample - loss: 0.8716\n",
      "Epoch 72/200\n",
      "162/162 [==============================] - 0s 105us/sample - loss: 0.8704\n",
      "Epoch 73/200\n",
      "162/162 [==============================] - 0s 105us/sample - loss: 0.8708\n",
      "Epoch 74/200\n",
      "162/162 [==============================] - 0s 92us/sample - loss: 0.8715\n",
      "Epoch 75/200\n",
      "162/162 [==============================] - 0s 83us/sample - loss: 0.8742\n",
      "Epoch 76/200\n",
      "162/162 [==============================] - 0s 76us/sample - loss: 0.8895\n",
      "Epoch 77/200\n",
      "162/162 [==============================] - 0s 102us/sample - loss: 0.8917\n",
      "Epoch 78/200\n",
      "162/162 [==============================] - 0s 78us/sample - loss: 0.8728\n",
      "Epoch 79/200\n",
      "162/162 [==============================] - 0s 88us/sample - loss: 0.8724\n",
      "Epoch 80/200\n",
      "162/162 [==============================] - 0s 93us/sample - loss: 0.8710\n",
      "Epoch 81/200\n",
      "162/162 [==============================] - 0s 89us/sample - loss: 0.8731\n",
      "Epoch 82/200\n",
      "162/162 [==============================] - 0s 94us/sample - loss: 0.8716\n",
      "Epoch 83/200\n",
      "162/162 [==============================] - 0s 88us/sample - loss: 0.8713\n",
      "Epoch 84/200\n",
      "162/162 [==============================] - 0s 85us/sample - loss: 0.9030\n",
      "Epoch 85/200\n",
      "162/162 [==============================] - 0s 82us/sample - loss: 0.8935\n",
      "Epoch 86/200\n",
      "162/162 [==============================] - 0s 79us/sample - loss: 0.8868\n",
      "Epoch 87/200\n",
      "162/162 [==============================] - 0s 97us/sample - loss: 0.8872\n",
      "Epoch 88/200\n",
      "162/162 [==============================] - 0s 109us/sample - loss: 0.8719\n",
      "Epoch 89/200\n",
      "162/162 [==============================] - 0s 89us/sample - loss: 0.8800\n",
      "Epoch 90/200\n",
      "162/162 [==============================] - 0s 85us/sample - loss: 0.8823\n",
      "Epoch 91/200\n",
      "162/162 [==============================] - 0s 98us/sample - loss: 0.8714\n",
      "Epoch 92/200\n",
      "162/162 [==============================] - 0s 120us/sample - loss: 0.8695\n",
      "Epoch 93/200\n",
      "162/162 [==============================] - 0s 116us/sample - loss: 0.8717\n",
      "Epoch 94/200\n",
      "162/162 [==============================] - 0s 94us/sample - loss: 0.8725\n",
      "Epoch 95/200\n",
      "162/162 [==============================] - 0s 89us/sample - loss: 0.8736\n",
      "Epoch 96/200\n",
      "162/162 [==============================] - 0s 85us/sample - loss: 0.8725\n",
      "Epoch 97/200\n",
      "162/162 [==============================] - 0s 94us/sample - loss: 0.8741\n",
      "Epoch 98/200\n",
      "162/162 [==============================] - 0s 91us/sample - loss: 0.8706\n",
      "Epoch 99/200\n",
      "162/162 [==============================] - 0s 81us/sample - loss: 0.8707\n",
      "Epoch 100/200\n",
      "162/162 [==============================] - 0s 94us/sample - loss: 0.8718\n",
      "Epoch 101/200\n",
      "162/162 [==============================] - 0s 117us/sample - loss: 0.8717\n",
      "Epoch 102/200\n",
      "162/162 [==============================] - 0s 96us/sample - loss: 0.8732\n",
      "Epoch 103/200\n",
      "162/162 [==============================] - 0s 89us/sample - loss: 0.8834\n",
      "Epoch 104/200\n",
      "162/162 [==============================] - 0s 95us/sample - loss: 0.8766\n",
      "Epoch 105/200\n",
      "162/162 [==============================] - 0s 82us/sample - loss: 0.8776\n",
      "Epoch 106/200\n",
      "162/162 [==============================] - 0s 103us/sample - loss: 0.8788\n",
      "Epoch 107/200\n",
      "162/162 [==============================] - 0s 98us/sample - loss: 0.8705\n",
      "Epoch 108/200\n",
      "162/162 [==============================] - 0s 98us/sample - loss: 0.8745\n",
      "Epoch 109/200\n",
      "162/162 [==============================] - 0s 128us/sample - loss: 0.8768\n",
      "Epoch 110/200\n",
      "162/162 [==============================] - 0s 72us/sample - loss: 0.8792\n",
      "Epoch 111/200\n",
      "162/162 [==============================] - 0s 85us/sample - loss: 0.8762\n",
      "Epoch 112/200\n",
      "162/162 [==============================] - 0s 107us/sample - loss: 0.8746\n",
      "Epoch 113/200\n",
      "162/162 [==============================] - 0s 80us/sample - loss: 0.8735\n",
      "Epoch 114/200\n",
      "162/162 [==============================] - 0s 73us/sample - loss: 0.8713\n",
      "Epoch 115/200\n",
      "162/162 [==============================] - 0s 95us/sample - loss: 0.8701\n",
      "Epoch 116/200\n",
      "162/162 [==============================] - 0s 68us/sample - loss: 0.8753\n",
      "Epoch 117/200\n",
      "162/162 [==============================] - 0s 68us/sample - loss: 0.8683\n",
      "Epoch 118/200\n",
      "162/162 [==============================] - 0s 63us/sample - loss: 0.8811\n",
      "Epoch 119/200\n",
      "162/162 [==============================] - 0s 136us/sample - loss: 0.8773\n",
      "Epoch 120/200\n",
      "162/162 [==============================] - 0s 79us/sample - loss: 0.8781\n",
      "Epoch 121/200\n",
      "162/162 [==============================] - 0s 75us/sample - loss: 0.8797\n",
      "Epoch 122/200\n",
      "162/162 [==============================] - 0s 86us/sample - loss: 0.8747\n",
      "Epoch 123/200\n",
      "162/162 [==============================] - 0s 82us/sample - loss: 0.9605\n",
      "Epoch 124/200\n",
      "162/162 [==============================] - 0s 78us/sample - loss: 0.9065\n",
      "Epoch 125/200\n",
      "162/162 [==============================] - 0s 79us/sample - loss: 0.8671\n",
      "Epoch 126/200\n",
      "162/162 [==============================] - 0s 74us/sample - loss: 0.9164\n",
      "Epoch 127/200\n",
      "162/162 [==============================] - 0s 94us/sample - loss: 0.8868\n",
      "Epoch 128/200\n",
      "162/162 [==============================] - 0s 84us/sample - loss: 0.8731\n",
      "Epoch 129/200\n",
      "162/162 [==============================] - 0s 88us/sample - loss: 0.8859\n",
      "Epoch 130/200\n",
      "162/162 [==============================] - 0s 83us/sample - loss: 0.8761\n",
      "Epoch 131/200\n",
      "162/162 [==============================] - 0s 93us/sample - loss: 0.8698\n",
      "Epoch 132/200\n",
      "162/162 [==============================] - 0s 96us/sample - loss: 0.8839\n",
      "Epoch 133/200\n",
      "162/162 [==============================] - 0s 97us/sample - loss: 0.8865\n",
      "Epoch 134/200\n",
      "162/162 [==============================] - 0s 91us/sample - loss: 0.8731\n",
      "Epoch 135/200\n",
      "162/162 [==============================] - 0s 84us/sample - loss: 0.8877\n",
      "Epoch 136/200\n",
      "162/162 [==============================] - 0s 92us/sample - loss: 0.8705\n",
      "Epoch 137/200\n",
      "162/162 [==============================] - 0s 92us/sample - loss: 0.8796\n",
      "Epoch 138/200\n",
      "162/162 [==============================] - 0s 102us/sample - loss: 0.8865\n",
      "Epoch 139/200\n",
      "162/162 [==============================] - 0s 110us/sample - loss: 0.8737\n",
      "Epoch 140/200\n",
      "162/162 [==============================] - 0s 111us/sample - loss: 0.8894\n",
      "Epoch 141/200\n",
      "162/162 [==============================] - 0s 96us/sample - loss: 0.8797\n",
      "Epoch 142/200\n",
      "162/162 [==============================] - 0s 76us/sample - loss: 0.8699\n",
      "Epoch 143/200\n",
      "162/162 [==============================] - 0s 75us/sample - loss: 0.8721\n",
      "Epoch 144/200\n",
      "162/162 [==============================] - 0s 77us/sample - loss: 0.8792\n",
      "Epoch 145/200\n",
      "162/162 [==============================] - 0s 79us/sample - loss: 0.8831\n",
      "Epoch 146/200\n",
      "162/162 [==============================] - 0s 84us/sample - loss: 0.8777\n",
      "Epoch 147/200\n",
      "162/162 [==============================] - 0s 100us/sample - loss: 0.8741\n",
      "Epoch 148/200\n",
      "162/162 [==============================] - 0s 115us/sample - loss: 0.8703\n",
      "Epoch 149/200\n",
      "162/162 [==============================] - 0s 136us/sample - loss: 0.8749\n",
      "Epoch 150/200\n",
      "162/162 [==============================] - 0s 89us/sample - loss: 0.8755\n",
      "Epoch 151/200\n",
      "162/162 [==============================] - 0s 117us/sample - loss: 0.8725\n",
      "Epoch 152/200\n",
      "162/162 [==============================] - 0s 88us/sample - loss: 0.8700\n",
      "Epoch 153/200\n",
      "162/162 [==============================] - 0s 82us/sample - loss: 0.9033\n",
      "Epoch 154/200\n",
      "162/162 [==============================] - 0s 79us/sample - loss: 0.9107\n",
      "Epoch 155/200\n",
      "162/162 [==============================] - 0s 82us/sample - loss: 0.8731\n",
      "Epoch 156/200\n",
      "162/162 [==============================] - 0s 97us/sample - loss: 0.8764\n",
      "Epoch 157/200\n",
      "162/162 [==============================] - 0s 98us/sample - loss: 0.8718\n",
      "Epoch 158/200\n",
      "162/162 [==============================] - 0s 114us/sample - loss: 0.8716\n",
      "Epoch 159/200\n",
      "162/162 [==============================] - 0s 98us/sample - loss: 0.8742\n",
      "Epoch 160/200\n",
      "162/162 [==============================] - 0s 99us/sample - loss: 0.8869\n",
      "Epoch 161/200\n",
      "162/162 [==============================] - 0s 82us/sample - loss: 0.8756\n",
      "Epoch 162/200\n",
      "162/162 [==============================] - 0s 82us/sample - loss: 0.8743\n",
      "Epoch 163/200\n",
      "162/162 [==============================] - 0s 100us/sample - loss: 0.8712\n",
      "Epoch 164/200\n",
      "162/162 [==============================] - 0s 95us/sample - loss: 0.8709\n",
      "Epoch 165/200\n",
      "162/162 [==============================] - 0s 93us/sample - loss: 0.8711\n",
      "Epoch 166/200\n",
      "162/162 [==============================] - 0s 92us/sample - loss: 0.8760\n",
      "Epoch 167/200\n",
      "162/162 [==============================] - 0s 93us/sample - loss: 0.8772\n",
      "Epoch 168/200\n",
      "162/162 [==============================] - 0s 95us/sample - loss: 0.8829\n",
      "Epoch 169/200\n",
      "162/162 [==============================] - 0s 86us/sample - loss: 0.8806\n",
      "Epoch 170/200\n",
      "162/162 [==============================] - 0s 96us/sample - loss: 0.8737\n",
      "Epoch 171/200\n",
      "162/162 [==============================] - 0s 96us/sample - loss: 0.8681\n",
      "Epoch 172/200\n",
      "162/162 [==============================] - 0s 110us/sample - loss: 0.8785\n",
      "Epoch 173/200\n",
      "162/162 [==============================] - 0s 103us/sample - loss: 0.8827\n",
      "Epoch 174/200\n",
      "162/162 [==============================] - 0s 72us/sample - loss: 0.8724\n",
      "Epoch 175/200\n",
      "162/162 [==============================] - 0s 84us/sample - loss: 0.8765\n",
      "Epoch 176/200\n",
      "162/162 [==============================] - 0s 91us/sample - loss: 0.9186\n",
      "Epoch 177/200\n",
      "162/162 [==============================] - 0s 86us/sample - loss: 0.9492\n",
      "Epoch 178/200\n",
      "162/162 [==============================] - 0s 82us/sample - loss: 0.8852\n",
      "Epoch 179/200\n",
      "162/162 [==============================] - 0s 87us/sample - loss: 0.8738\n",
      "Epoch 180/200\n",
      "162/162 [==============================] - 0s 85us/sample - loss: 0.8721\n",
      "Epoch 181/200\n",
      "162/162 [==============================] - 0s 100us/sample - loss: 0.8715\n",
      "Epoch 182/200\n",
      "162/162 [==============================] - 0s 106us/sample - loss: 0.8837\n",
      "Epoch 183/200\n",
      "162/162 [==============================] - 0s 84us/sample - loss: 0.8753\n",
      "Epoch 184/200\n",
      "162/162 [==============================] - 0s 90us/sample - loss: 0.8713\n",
      "Epoch 185/200\n",
      "162/162 [==============================] - 0s 114us/sample - loss: 0.8749\n",
      "Epoch 186/200\n",
      "162/162 [==============================] - 0s 81us/sample - loss: 0.8785\n",
      "Epoch 187/200\n",
      "162/162 [==============================] - 0s 102us/sample - loss: 0.9259\n",
      "Epoch 188/200\n",
      "162/162 [==============================] - 0s 98us/sample - loss: 0.9756\n",
      "Epoch 189/200\n",
      "162/162 [==============================] - 0s 70us/sample - loss: 0.8833\n",
      "Epoch 190/200\n",
      "162/162 [==============================] - 0s 105us/sample - loss: 0.8887\n",
      "Epoch 191/200\n",
      "162/162 [==============================] - 0s 93us/sample - loss: 0.8842\n",
      "Epoch 192/200\n",
      "162/162 [==============================] - 0s 91us/sample - loss: 0.8724\n",
      "Epoch 193/200\n",
      "162/162 [==============================] - 0s 97us/sample - loss: 0.8818\n",
      "Epoch 194/200\n",
      "162/162 [==============================] - 0s 90us/sample - loss: 0.8701\n",
      "Epoch 195/200\n",
      "162/162 [==============================] - 0s 79us/sample - loss: 0.8891\n",
      "Epoch 196/200\n",
      "162/162 [==============================] - 0s 81us/sample - loss: 0.8969\n",
      "Epoch 197/200\n",
      "162/162 [==============================] - 0s 97us/sample - loss: 0.8703\n",
      "Epoch 198/200\n",
      "162/162 [==============================] - 0s 89us/sample - loss: 0.8892\n",
      "Epoch 199/200\n",
      "162/162 [==============================] - 0s 99us/sample - loss: 0.8733\n",
      "Epoch 200/200\n",
      "162/162 [==============================] - 0s 78us/sample - loss: 0.8750\n"
     ]
    }
   ],
   "source": [
    "# Train the model\n",
    "r = model.fit(X, Y, epochs=200, callbacks=[scheduler])"
   ]
  },
  {
   "cell_type": "code",
   "execution_count": 0,
   "metadata": {
    "colab": {
     "base_uri": "https://localhost:8080/",
     "height": 282
    },
    "colab_type": "code",
    "executionInfo": {
     "elapsed": 825,
     "status": "ok",
     "timestamp": 1584224722270,
     "user": {
      "displayName": "Tehmeer Ali Paryani",
      "photoUrl": "https://lh3.googleusercontent.com/a-/AOh14GijNXLk85SdD3X_5KeoXyy_sO4r2mceV5eGOQe9DA=s64",
      "userId": "06390511036018917120"
     },
     "user_tz": -300
    },
    "id": "ly-aYvcuJbpz",
    "outputId": "51603f61-62bd-44d5-acfc-dae149cd9113"
   },
   "outputs": [
    {
     "data": {
      "text/plain": [
       "[<matplotlib.lines.Line2D at 0x7f2d652e9da0>]"
      ]
     },
     "execution_count": 23,
     "metadata": {
      "tags": []
     },
     "output_type": "execute_result"
    },
    {
     "data": {
      "image/png": "[encoded data removed]",
      "text/plain": [
       "<Figure size 432x288 with 1 Axes>"
      ]
     },
     "metadata": {
      "tags": []
     },
     "output_type": "display_data"
    }
   ],
   "source": [
    "# Plot the loss\n",
    "plt.plot(r.history['loss'], label=['loss'])"
   ]
  },
  {
   "cell_type": "code",
   "execution_count": 0,
   "metadata": {
    "colab": {
     "base_uri": "https://localhost:8080/",
     "height": 51
    },
    "colab_type": "code",
    "executionInfo": {
     "elapsed": 760,
     "status": "ok",
     "timestamp": 1584224854030,
     "user": {
      "displayName": "Tehmeer Ali Paryani",
      "photoUrl": "https://lh3.googleusercontent.com/a-/AOh14GijNXLk85SdD3X_5KeoXyy_sO4r2mceV5eGOQe9DA=s64",
      "userId": "06390511036018917120"
     },
     "user_tz": -300
    },
    "id": "-pC-wyW5JtnC",
    "outputId": "c78da317-3b2e-4f2c-fd8e-3ccf9f83064f"
   },
   "outputs": [
    {
     "name": "stdout",
     "output_type": "stream",
     "text": [
      "[<tensorflow.python.keras.layers.core.Dense object at 0x7f2d4d424cc0>]\n",
      "[array([[0.346657]], dtype=float32), array([17.763733], dtype=float32)]\n"
     ]
    }
   ],
   "source": [
    "# Get the slope of the line\n",
    "# The slope of the line is related to the doubling rate of transistor count\n",
    "print(model.layers) # Note: there is only 1 layer, the \"input\" layer doesn't count\n",
    "print(model.layers[0].get_weights())"
   ]
  },
  {
   "cell_type": "code",
   "execution_count": 0,
   "metadata": {
    "colab": {},
    "colab_type": "code",
    "id": "PhmOIKnmKNyg"
   },
   "outputs": [],
   "source": [
    "# The slope of the line is:\n",
    "a = model.layers[0].get_weights()[0][0,0]"
   ]
  },
  {
   "cell_type": "code",
   "execution_count": 0,
   "metadata": {
    "colab": {
     "base_uri": "https://localhost:8080/",
     "height": 34
    },
    "colab_type": "code",
    "executionInfo": {
     "elapsed": 1724,
     "status": "ok",
     "timestamp": 1584225578583,
     "user": {
      "displayName": "Tehmeer Ali Paryani",
      "photoUrl": "https://lh3.googleusercontent.com/a-/AOh14GijNXLk85SdD3X_5KeoXyy_sO4r2mceV5eGOQe9DA=s64",
      "userId": "06390511036018917120"
     },
     "user_tz": -300
    },
    "id": "zccJPGxQKmO_",
    "outputId": "548700bc-1951-4677-a618-e04d77affcfb"
   },
   "outputs": [
    {
     "name": "stdout",
     "output_type": "stream",
     "text": [
      "Time to double: 1.999518730902411\n"
     ]
    }
   ],
   "source": [
    "print(\"Time to double:\", np.log(2)/a)"
   ]
  },
  {
   "cell_type": "code",
   "execution_count": 0,
   "metadata": {
    "colab": {
     "base_uri": "https://localhost:8080/",
     "height": 51
    },
    "colab_type": "code",
    "executionInfo": {
     "elapsed": 972,
     "status": "ok",
     "timestamp": 1584225914766,
     "user": {
      "displayName": "Tehmeer Ali Paryani",
      "photoUrl": "https://lh3.googleusercontent.com/a-/AOh14GijNXLk85SdD3X_5KeoXyy_sO4r2mceV5eGOQe9DA=s64",
      "userId": "06390511036018917120"
     },
     "user_tz": -300
    },
    "id": "EIzRpmSnM-az",
    "outputId": "ecbae0e1-625a-4fd7-ecfd-b462b7a04085"
   },
   "outputs": [
    {
     "name": "stdout",
     "output_type": "stream",
     "text": [
      "0.341682487387313 4.6198787793639325e-14\n",
      "Time to double:  2.0286295205239204\n"
     ]
    }
   ],
   "source": [
    "# If you know the analytical solution\n",
    "X = np.array(X).flatten()\n",
    "Y = np.array(Y)\n",
    "\n",
    "denominator = X.dot(X) - X.mean() * X.sum()\n",
    "a = ( X.dot(Y) - Y.mean() * X.sum() ) / denominator\n",
    "b = ( X.mean()  * X.dot(X) - X.mean() * X.dot(Y) ) / denominator\n",
    "print(a, b)\n",
    "print(\"Time to double: \", np.log(2) / a)"
   ]
  },
  {
   "cell_type": "markdown",
   "metadata": {
    "colab_type": "text",
    "id": "J9CEgbtvNHU_"
   },
   "source": [
    "#**Part 2: Making Predictions**"
   ]
  },
  {
   "cell_type": "code",
   "execution_count": 0,
   "metadata": {
    "colab": {
     "base_uri": "https://localhost:8080/",
     "height": 272
    },
    "colab_type": "code",
    "executionInfo": {
     "elapsed": 744,
     "status": "ok",
     "timestamp": 1584226999721,
     "user": {
      "displayName": "Tehmeer Ali Paryani",
      "photoUrl": "https://lh3.googleusercontent.com/a-/AOh14GijNXLk85SdD3X_5KeoXyy_sO4r2mceV5eGOQe9DA=s64",
      "userId": "06390511036018917120"
     },
     "user_tz": -300
    },
    "id": "2Y9H4kv6NNQ2",
    "outputId": "8ffba2dc-219c-4d37-9b05-f03d06a9809f"
   },
   "outputs": [
    {
     "data": {
      "text/plain": [
       "array([1971, 1972, 1973, 1973, 1974, 1974, 1974, 1975, 1976, 1976, 1976,\n",
       "       1978, 1978, 1979, 1979, 1979, 1981, 1982, 1982, 1983, 1984, 1984,\n",
       "       1985, 1985, 1985, 1986, 1986, 1986, 1987, 1987, 1987, 1987, 1988,\n",
       "       1988, 1989, 1989, 1989, 1989, 1990, 1991, 1991, 1992, 1992, 1993,\n",
       "       1993, 1994, 1994, 1995, 1999, 1995, 1996, 1997, 1997, 1997, 1998,\n",
       "       1999, 1999, 2000, 2000, 1999, 1999, 1999, 2000, 2001, 2001, 2002,\n",
       "       2004, 2004, 2005, 2006, 2005, 2006, 2007, 2008, 2003, 2003, 2002,\n",
       "       2005, 2005, 2006, 2007, 2003, 2008, 2009, 2011, 2012, 2007, 2007,\n",
       "       2008, 2004, 2007, 2008, 2008, 2007, 2009, 2010, 2012, 2013, 2011,\n",
       "       2010, 2010, 2012, 2012, 2010, 2012, 2014, 2006, 2015, 2013, 2015,\n",
       "       2008, 2010, 2014, 2015, 2015, 2012, 2011, 2010, 2014, 2011, 2012,\n",
       "       2014, 2016, 2017, 2017, 2018, 2012, 2016, 2016, 2015, 2013, 2017,\n",
       "       2014, 2017, 2017, 2017, 2012, 2013, 2014, 2017, 2018, 2016, 2018,\n",
       "       2017, 2018, 2017, 2015, 2017, 2016, 2017, 2016, 2017, 2017, 2015,\n",
       "       2017, 2018, 2017, 2017, 2017, 2018, 2018, 2018])"
      ]
     },
     "execution_count": 28,
     "metadata": {
      "tags": []
     },
     "output_type": "execute_result"
    }
   ],
   "source": [
    "data[:,0]"
   ]
  },
  {
   "cell_type": "code",
   "execution_count": 0,
   "metadata": {
    "colab": {},
    "colab_type": "code",
    "id": "hQWnD9IuSZoJ"
   },
   "outputs": [],
   "source": []
  }
 ],
 "metadata": {
  "colab": {
   "authorship_tag": "ABX9TyN2idHyaGJXqBNzcEXbd3oe",
   "collapsed_sections": [],
   "name": "TF2 Linear Regression.ipynb",
   "provenance": []
  },
  "kernelspec": {
   "display_name": "Python 3",
   "language": "python",
   "name": "python3"
  },
  "language_info": {
   "codemirror_mode": {
    "name": "ipython",
    "version": 3
   },
   "file_extension": ".py",
   "mimetype": "text/x-python",
   "name": "python",
   "nbconvert_exporter": "python",
   "pygments_lexer": "ipython3",
   "version": "3.7.3"
  }
 },
 "nbformat": 4,
 "nbformat_minor": 1
}
