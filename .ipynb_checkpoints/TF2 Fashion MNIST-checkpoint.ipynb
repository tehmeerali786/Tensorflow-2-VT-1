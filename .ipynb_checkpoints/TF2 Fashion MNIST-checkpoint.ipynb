{
 "cells": [
  {
   "cell_type": "code",
   "execution_count": 1,
   "metadata": {
    "colab": {
     "base_uri": "https://localhost:8080/",
     "height": 85
    },
    "colab_type": "code",
    "executionInfo": {
     "elapsed": 106970,
     "status": "ok",
     "timestamp": 1584489962060,
     "user": {
      "displayName": "Tehmeer Ali Paryani",
      "photoUrl": "https://lh3.googleusercontent.com/a-/AOh14GijNXLk85SdD3X_5KeoXyy_sO4r2mceV5eGOQe9DA=s64",
      "userId": "06390511036018917120"
     },
     "user_tz": -300
    },
    "id": "bGS3K19t70Au",
    "outputId": "53058f85-72f1-4076-cee8-23b1b35b1670"
   },
   "outputs": [
    {
     "name": "stdout",
     "output_type": "stream",
     "text": [
      "\u001b[K     |████████████████████████████████| 421.8MB 39kB/s \n",
      "\u001b[K     |████████████████████████████████| 3.9MB 51.0MB/s \n",
      "\u001b[K     |████████████████████████████████| 450kB 53.6MB/s \n",
      "\u001b[31mERROR: tensorflow-federated 0.12.0 has requirement tensorflow-addons~=0.7.0, but you'll have tensorflow-addons 0.8.3 which is incompatible.\u001b[0m\n",
      "\u001b[?25h"
     ]
    }
   ],
   "source": [
    "# Install Tensorflow\n",
    "!pip install -q tensorflow==2.1.0"
   ]
  },
  {
   "cell_type": "code",
   "execution_count": 2,
   "metadata": {
    "colab": {
     "base_uri": "https://localhost:8080/",
     "height": 34
    },
    "colab_type": "code",
    "executionInfo": {
     "elapsed": 5731,
     "status": "ok",
     "timestamp": 1584490030701,
     "user": {
      "displayName": "Tehmeer Ali Paryani",
      "photoUrl": "https://lh3.googleusercontent.com/a-/AOh14GijNXLk85SdD3X_5KeoXyy_sO4r2mceV5eGOQe9DA=s64",
      "userId": "06390511036018917120"
     },
     "user_tz": -300
    },
    "id": "TCk2Jeqa8Kzw",
    "outputId": "b8dbb737-3dc1-4f1f-e90b-929ec82b45df"
   },
   "outputs": [
    {
     "name": "stdout",
     "output_type": "stream",
     "text": [
      "2.1.0\n"
     ]
    }
   ],
   "source": [
    "import tensorflow as tf\n",
    "print(tf.__version__)"
   ]
  },
  {
   "cell_type": "code",
   "execution_count": 0,
   "metadata": {
    "colab": {},
    "colab_type": "code",
    "id": "8YEjNLwz8nrV"
   },
   "outputs": [],
   "source": [
    "# additional imports\n",
    "\n",
    "import numpy as np\n",
    "import matplotlib.pyplot as plt\n",
    "from tensorflow.keras.layers import Input, Conv2D, Dense, Flatten, Dropout\n",
    "from tensorflow.keras.models import Model"
   ]
  },
  {
   "cell_type": "code",
   "execution_count": 6,
   "metadata": {
    "colab": {
     "base_uri": "https://localhost:8080/",
     "height": 170
    },
    "colab_type": "code",
    "executionInfo": {
     "elapsed": 2253,
     "status": "ok",
     "timestamp": 1584490441294,
     "user": {
      "displayName": "Tehmeer Ali Paryani",
      "photoUrl": "https://lh3.googleusercontent.com/a-/AOh14GijNXLk85SdD3X_5KeoXyy_sO4r2mceV5eGOQe9DA=s64",
      "userId": "06390511036018917120"
     },
     "user_tz": -300
    },
    "id": "rZXcBny2-JOz",
    "outputId": "670b1940-9760-4f56-a918-25ee9c3127f6"
   },
   "outputs": [
    {
     "name": "stdout",
     "output_type": "stream",
     "text": [
      "Downloading data from https://storage.googleapis.com/tensorflow/tf-keras-datasets/train-labels-idx1-ubyte.gz\n",
      "32768/29515 [=================================] - 0s 0us/step\n",
      "Downloading data from https://storage.googleapis.com/tensorflow/tf-keras-datasets/train-images-idx3-ubyte.gz\n",
      "26427392/26421880 [==============================] - 0s 0us/step\n",
      "Downloading data from https://storage.googleapis.com/tensorflow/tf-keras-datasets/t10k-labels-idx1-ubyte.gz\n",
      "8192/5148 [===============================================] - 0s 0us/step\n",
      "Downloading data from https://storage.googleapis.com/tensorflow/tf-keras-datasets/t10k-images-idx3-ubyte.gz\n",
      "4423680/4422102 [==============================] - 0s 0us/step\n",
      "x_train.shape:  (60000, 28, 28)\n"
     ]
    }
   ],
   "source": [
    "# Load in the data\n",
    "fashion_mnist = tf.keras.datasets.fashion_mnist\n",
    "\n",
    "(x_train, y_train), (x_test, y_test) = fashion_mnist.load_data()\n",
    "x_train, x_test = x_train/255.0, x_test/255.0\n",
    "print(\"x_train.shape: \", x_train.shape)"
   ]
  },
  {
   "cell_type": "code",
   "execution_count": 7,
   "metadata": {
    "colab": {
     "base_uri": "https://localhost:8080/",
     "height": 34
    },
    "colab_type": "code",
    "executionInfo": {
     "elapsed": 930,
     "status": "ok",
     "timestamp": 1584490587754,
     "user": {
      "displayName": "Tehmeer Ali Paryani",
      "photoUrl": "https://lh3.googleusercontent.com/a-/AOh14GijNXLk85SdD3X_5KeoXyy_sO4r2mceV5eGOQe9DA=s64",
      "userId": "06390511036018917120"
     },
     "user_tz": -300
    },
    "id": "FvOvGUpZ_Oec",
    "outputId": "c1a34ef4-c41e-40ac-fd03-53479a1b0731"
   },
   "outputs": [
    {
     "name": "stdout",
     "output_type": "stream",
     "text": [
      "(60000, 28, 28, 1)\n"
     ]
    }
   ],
   "source": [
    "# the data is only 2D!\n",
    "# convolution expects height x width x color\n",
    "x_train = np.expand_dims(x_train, -1)\n",
    "x_test = np.expand_dims(x_test, -1)\n",
    "print(x_train.shape)"
   ]
  },
  {
   "cell_type": "code",
   "execution_count": 8,
   "metadata": {
    "colab": {
     "base_uri": "https://localhost:8080/",
     "height": 34
    },
    "colab_type": "code",
    "executionInfo": {
     "elapsed": 1759,
     "status": "ok",
     "timestamp": 1584490660730,
     "user": {
      "displayName": "Tehmeer Ali Paryani",
      "photoUrl": "https://lh3.googleusercontent.com/a-/AOh14GijNXLk85SdD3X_5KeoXyy_sO4r2mceV5eGOQe9DA=s64",
      "userId": "06390511036018917120"
     },
     "user_tz": -300
    },
    "id": "LvHbYH7V_545",
    "outputId": "09f0d67c-526e-4798-e2f2-5bc728e3d25b"
   },
   "outputs": [
    {
     "name": "stdout",
     "output_type": "stream",
     "text": [
      "number of classess: 10\n"
     ]
    }
   ],
   "source": [
    "# Number of classes\n",
    "K = len(set(y_train))\n",
    "print(\"number of classess:\", K)"
   ]
  },
  {
   "cell_type": "code",
   "execution_count": 10,
   "metadata": {
    "colab": {
     "base_uri": "https://localhost:8080/",
     "height": 34
    },
    "colab_type": "code",
    "executionInfo": {
     "elapsed": 1128,
     "status": "ok",
     "timestamp": 1584490720058,
     "user": {
      "displayName": "Tehmeer Ali Paryani",
      "photoUrl": "https://lh3.googleusercontent.com/a-/AOh14GijNXLk85SdD3X_5KeoXyy_sO4r2mceV5eGOQe9DA=s64",
      "userId": "06390511036018917120"
     },
     "user_tz": -300
    },
    "id": "iSADzGFJALw4",
    "outputId": "f0955dcd-d7f0-4c6f-83ae-a6feee25abdc"
   },
   "outputs": [
    {
     "data": {
      "text/plain": [
       "{0, 1, 2, 3, 4, 5, 6, 7, 8, 9}"
      ]
     },
     "execution_count": 10,
     "metadata": {
      "tags": []
     },
     "output_type": "execute_result"
    }
   ],
   "source": [
    "set(y_train)"
   ]
  },
  {
   "cell_type": "code",
   "execution_count": 0,
   "metadata": {
    "colab": {},
    "colab_type": "code",
    "id": "Gqp7q3g6ASJI"
   },
   "outputs": [],
   "source": [
    "# Build the model using the functional API\n",
    "i = Input(shape=x_train[0].shape)\n",
    "x = Conv2D(32, (3, 3), strides=2, activation='relu')(i)\n",
    "x = Conv2D(64, (3, 3), strides=2, activation='relu')(x)\n",
    "x = Conv2D(128, (3, 3), strides=2, activation='relu')(x)\n",
    "x = Flatten()(x)\n",
    "x = Dropout(0.2)(x)\n",
    "x = Dense(512, activation='relu')(x)\n",
    "x = Dropout(0.2)(x)\n",
    "x = Dense(K, activation='softmax')(x)\n",
    "\n",
    "model = Model(i, x)\n"
   ]
  },
  {
   "cell_type": "code",
   "execution_count": 14,
   "metadata": {
    "colab": {
     "base_uri": "https://localhost:8080/",
     "height": 544
    },
    "colab_type": "code",
    "executionInfo": {
     "elapsed": 98110,
     "status": "ok",
     "timestamp": 1584491390923,
     "user": {
      "displayName": "Tehmeer Ali Paryani",
      "photoUrl": "https://lh3.googleusercontent.com/a-/AOh14GijNXLk85SdD3X_5KeoXyy_sO4r2mceV5eGOQe9DA=s64",
      "userId": "06390511036018917120"
     },
     "user_tz": -300
    },
    "id": "kN7IgSI6BhuY",
    "outputId": "edd6b16a-282e-446a-b0e8-58d6f180da63"
   },
   "outputs": [
    {
     "name": "stdout",
     "output_type": "stream",
     "text": [
      "Train on 60000 samples, validate on 10000 samples\n",
      "Epoch 1/15\n",
      "60000/60000 [==============================] - 12s 206us/sample - loss: 0.5248 - accuracy: 0.8073 - val_loss: 0.4092 - val_accuracy: 0.8502\n",
      "Epoch 2/15\n",
      "60000/60000 [==============================] - 6s 101us/sample - loss: 0.3610 - accuracy: 0.8638 - val_loss: 0.3415 - val_accuracy: 0.8736\n",
      "Epoch 3/15\n",
      "60000/60000 [==============================] - 6s 102us/sample - loss: 0.3108 - accuracy: 0.8834 - val_loss: 0.3203 - val_accuracy: 0.8804\n",
      "Epoch 4/15\n",
      "60000/60000 [==============================] - 6s 101us/sample - loss: 0.2794 - accuracy: 0.8943 - val_loss: 0.2974 - val_accuracy: 0.8908\n",
      "Epoch 5/15\n",
      "60000/60000 [==============================] - 6s 100us/sample - loss: 0.2531 - accuracy: 0.9034 - val_loss: 0.2932 - val_accuracy: 0.8932\n",
      "Epoch 6/15\n",
      "60000/60000 [==============================] - 6s 100us/sample - loss: 0.2328 - accuracy: 0.9121 - val_loss: 0.2885 - val_accuracy: 0.8970\n",
      "Epoch 7/15\n",
      "60000/60000 [==============================] - 6s 100us/sample - loss: 0.2129 - accuracy: 0.9198 - val_loss: 0.3100 - val_accuracy: 0.8954\n",
      "Epoch 8/15\n",
      "60000/60000 [==============================] - 6s 100us/sample - loss: 0.1982 - accuracy: 0.9258 - val_loss: 0.3000 - val_accuracy: 0.8954\n",
      "Epoch 9/15\n",
      "60000/60000 [==============================] - 6s 100us/sample - loss: 0.1821 - accuracy: 0.9301 - val_loss: 0.3085 - val_accuracy: 0.9000\n",
      "Epoch 10/15\n",
      "60000/60000 [==============================] - 6s 102us/sample - loss: 0.1698 - accuracy: 0.9346 - val_loss: 0.3459 - val_accuracy: 0.8910\n",
      "Epoch 11/15\n",
      "60000/60000 [==============================] - 6s 106us/sample - loss: 0.1585 - accuracy: 0.9400 - val_loss: 0.3261 - val_accuracy: 0.8998\n",
      "Epoch 12/15\n",
      "60000/60000 [==============================] - 6s 99us/sample - loss: 0.1508 - accuracy: 0.9417 - val_loss: 0.3632 - val_accuracy: 0.8896\n",
      "Epoch 13/15\n",
      "60000/60000 [==============================] - 6s 101us/sample - loss: 0.1411 - accuracy: 0.9462 - val_loss: 0.3531 - val_accuracy: 0.8965\n",
      "Epoch 14/15\n",
      "60000/60000 [==============================] - 6s 99us/sample - loss: 0.1348 - accuracy: 0.9488 - val_loss: 0.3480 - val_accuracy: 0.8990\n",
      "Epoch 15/15\n",
      "60000/60000 [==============================] - 6s 100us/sample - loss: 0.1278 - accuracy: 0.9517 - val_loss: 0.3528 - val_accuracy: 0.8980\n"
     ]
    }
   ],
   "source": [
    "# Compile and fit\n",
    "# Note: make sure you are using the GPU for this!\n",
    "model.compile(optimizer='adam', loss='sparse_categorical_crossentropy', \n",
    "              metrics=['accuracy'])\n",
    "r = model.fit(x_train, y_train, validation_data=(x_test, y_test), epochs=15)"
   ]
  },
  {
   "cell_type": "code",
   "execution_count": 15,
   "metadata": {
    "colab": {
     "base_uri": "https://localhost:8080/",
     "height": 282
    },
    "colab_type": "code",
    "executionInfo": {
     "elapsed": 1599,
     "status": "ok",
     "timestamp": 1584491517192,
     "user": {
      "displayName": "Tehmeer Ali Paryani",
      "photoUrl": "https://lh3.googleusercontent.com/a-/AOh14GijNXLk85SdD3X_5KeoXyy_sO4r2mceV5eGOQe9DA=s64",
      "userId": "06390511036018917120"
     },
     "user_tz": -300
    },
    "id": "9kTU4JIhCmgE",
    "outputId": "805ce07d-632f-4d76-d4aa-aa3840ffb6f7"
   },
   "outputs": [
    {
     "data": {
      "text/plain": [
       "<matplotlib.legend.Legend at 0x7fdae5174c18>"
      ]
     },
     "execution_count": 15,
     "metadata": {
      "tags": []
     },
     "output_type": "execute_result"
    },
    {
     "data": {
      "image/png": "[encoded data removed]",
      "text/plain": [
       "<Figure size 432x288 with 1 Axes>"
      ]
     },
     "metadata": {
      "tags": []
     },
     "output_type": "display_data"
    }
   ],
   "source": [
    "# Plot loss per iteration\n",
    "import matplotlib.pyplot as plt\n",
    "plt.plot(r.history['loss'], label='loss')\n",
    "plt.plot(r.history['val_loss'], label='val_loss')\n",
    "plt.legend()"
   ]
  },
  {
   "cell_type": "code",
   "execution_count": 16,
   "metadata": {
    "colab": {
     "base_uri": "https://localhost:8080/",
     "height": 282
    },
    "colab_type": "code",
    "executionInfo": {
     "elapsed": 2078,
     "status": "ok",
     "timestamp": 1584491629911,
     "user": {
      "displayName": "Tehmeer Ali Paryani",
      "photoUrl": "https://lh3.googleusercontent.com/a-/AOh14GijNXLk85SdD3X_5KeoXyy_sO4r2mceV5eGOQe9DA=s64",
      "userId": "06390511036018917120"
     },
     "user_tz": -300
    },
    "id": "HFF4ABbLDcgu",
    "outputId": "87f13749-99b8-4e30-e892-f4dfacb029e1"
   },
   "outputs": [
    {
     "data": {
      "text/plain": [
       "<matplotlib.legend.Legend at 0x7fdabe59a1d0>"
      ]
     },
     "execution_count": 16,
     "metadata": {
      "tags": []
     },
     "output_type": "execute_result"
    },
    {
     "data": {
      "image/png": "[encoded data removed]",
      "text/plain": [
       "<Figure size 432x288 with 1 Axes>"
      ]
     },
     "metadata": {
      "tags": []
     },
     "output_type": "display_data"
    }
   ],
   "source": [
    "# Plot accuracy per iteration\n",
    "plt.plot(r.history['accuracy'], label='acc')\n",
    "plt.plot(r.history['val_accuracy'], label='val_acc')\n",
    "plt.legend()"
   ]
  },
  {
   "cell_type": "code",
   "execution_count": 19,
   "metadata": {
    "colab": {
     "base_uri": "https://localhost:8080/",
     "height": 498
    },
    "colab_type": "code",
    "executionInfo": {
     "elapsed": 2712,
     "status": "ok",
     "timestamp": 1584492705555,
     "user": {
      "displayName": "Tehmeer Ali Paryani",
      "photoUrl": "https://lh3.googleusercontent.com/a-/AOh14GijNXLk85SdD3X_5KeoXyy_sO4r2mceV5eGOQe9DA=s64",
      "userId": "06390511036018917120"
     },
     "user_tz": -300
    },
    "id": "yh0hogU-D4Ig",
    "outputId": "ca8b6abb-32a8-49cf-e29a-b295c90e07fa"
   },
   "outputs": [
    {
     "name": "stdout",
     "output_type": "stream",
     "text": [
      "Confusion matrix, without normalization\n",
      "[[851   2  20  12   4   1  97   0  12   1]\n",
      " [  5 979   0  10   2   0   3   0   1   0]\n",
      " [ 16   2 822  10  74   0  76   0   0   0]\n",
      " [ 18   7  16 883  40   0  31   0   5   0]\n",
      " [  0   0  41  23 865   0  69   0   2   0]\n",
      " [  0   0   0   2   0 960   0  29   1   8]\n",
      " [ 98   3  57  20 101   0 712   0   9   0]\n",
      " [  0   0   0   0   0   6   0 968   0  26]\n",
      " [  1   0   6   2   6   2   5   2 975   1]\n",
      " [  0   0   1   0   0   4   0  30   0 965]]\n"
     ]
    },
    {
     "data": {
      "image/png": "[encoded data removed]",
      "text/plain": [
       "<Figure size 432x288 with 2 Axes>"
      ]
     },
     "metadata": {
      "tags": []
     },
     "output_type": "display_data"
    }
   ],
   "source": [
    "# Plot confusion matrix \n",
    "from sklearn.metrics import confusion_matrix\n",
    "import itertools\n",
    "\n",
    "def plot_confusion_matrix(cm, classes,\n",
    "                          normalize=False,\n",
    "                          title='Confusion_matrix',\n",
    "                          cmap = plt.cm.Blues):\n",
    "  \n",
    "  \"\"\"\n",
    "      This function prints and plots the confusion matrix,\n",
    "      Normalization can be applied by setting `normalize=True`\n",
    "  \n",
    "  \"\"\"\n",
    "\n",
    "  if normalize:\n",
    "    cm = cm.astype('float') / cm.sum(axis=1)[:, np.newaxis]\n",
    "    print(\"Normalized confustion matrix\")\n",
    "  else:\n",
    "    print(\"Confusion matrix, without normalization\")\n",
    "\n",
    "  print(cm)\n",
    "\n",
    "\n",
    "  plt.imshow(cm, interpolation='nearest', cmap=cmap)\n",
    "  plt.title(title)\n",
    "  plt.colorbar()\n",
    "  tick_marks = np.arange(len(classes))\n",
    "  plt.xticks(tick_marks, classes, rotation=45)\n",
    "  plt.yticks(tick_marks, classes)\n",
    "\n",
    "\n",
    "  fmt = '.2f' if normalize else 'd'\n",
    "  thresh = cm.max() / 2.\n",
    "  for i, j in itertools.product(range(cm.shape[0]), range(cm.shape[1])):\n",
    "    plt.text(j, i, format(cm[i, j], fmt),\n",
    "             horizontalalignment=\"center\",\n",
    "             color=\"white\" if cm[i, j] > thresh else \"black\")\n",
    "    \n",
    "  plt.tight_layout()\n",
    "  plt.ylabel('True label')\n",
    "  plt.xlabel('Predicted label')\n",
    "  plt.show()\n",
    "\n",
    "p_test = model.predict(x_test).argmax(axis=1)\n",
    "cm = confusion_matrix(y_test, p_test)\n",
    "plot_confusion_matrix(cm, list(range(10)))"
   ]
  },
  {
   "cell_type": "code",
   "execution_count": 0,
   "metadata": {
    "colab": {},
    "colab_type": "code",
    "id": "nLsv9hfjHoFs"
   },
   "outputs": [],
   "source": [
    "# Label mapping\n",
    "labels = ''' T-shirt/top\n",
    "Trouser\n",
    "Pullover\n",
    "Dress\n",
    "Coat\n",
    "Sandal\n",
    "Shirt\n",
    "Sneaker\n",
    "Bag\n",
    "Ankel boot\n",
    "'''.split()"
   ]
  },
  {
   "cell_type": "code",
   "execution_count": 21,
   "metadata": {
    "colab": {
     "base_uri": "https://localhost:8080/",
     "height": 204
    },
    "colab_type": "code",
    "executionInfo": {
     "elapsed": 1244,
     "status": "ok",
     "timestamp": 1584492973724,
     "user": {
      "displayName": "Tehmeer Ali Paryani",
      "photoUrl": "https://lh3.googleusercontent.com/a-/AOh14GijNXLk85SdD3X_5KeoXyy_sO4r2mceV5eGOQe9DA=s64",
      "userId": "06390511036018917120"
     },
     "user_tz": -300
    },
    "id": "j5Qz0nDpI_L9",
    "outputId": "5092ee4d-bcc9-417e-80de-c40816bfaa69"
   },
   "outputs": [
    {
     "data": {
      "text/plain": [
       "['T-shirt/top',\n",
       " 'Trouser',\n",
       " 'Pullover',\n",
       " 'Dress',\n",
       " 'Coat',\n",
       " 'Sandal',\n",
       " 'Shirt',\n",
       " 'Sneaker',\n",
       " 'Bag',\n",
       " 'Ankel',\n",
       " 'boot']"
      ]
     },
     "execution_count": 21,
     "metadata": {
      "tags": []
     },
     "output_type": "execute_result"
    }
   ],
   "source": [
    "labels"
   ]
  },
  {
   "cell_type": "code",
   "execution_count": 25,
   "metadata": {
    "colab": {
     "base_uri": "https://localhost:8080/",
     "height": 281
    },
    "colab_type": "code",
    "executionInfo": {
     "elapsed": 1847,
     "status": "ok",
     "timestamp": 1584493276935,
     "user": {
      "displayName": "Tehmeer Ali Paryani",
      "photoUrl": "https://lh3.googleusercontent.com/a-/AOh14GijNXLk85SdD3X_5KeoXyy_sO4r2mceV5eGOQe9DA=s64",
      "userId": "06390511036018917120"
     },
     "user_tz": -300
    },
    "id": "VdnO7oQpJAPb",
    "outputId": "1623444c-b44f-4363-a4c0-571e48995c78"
   },
   "outputs": [
    {
     "data": {
      "image/png": "[encoded data removed]",
      "text/plain": [
       "<Figure size 432x288 with 1 Axes>"
      ]
     },
     "metadata": {
      "tags": []
     },
     "output_type": "display_data"
    }
   ],
   "source": [
    "# Show some missclassified examples\n",
    "missclassified_idx = np.where(p_test != y_test)[0]\n",
    "i = np.random.choice(missclassified_idx)\n",
    "plt.imshow(x_test[i].reshape(28, 28), cmap='gray')\n",
    "plt.title(\"True label: %s Predicted: %s\" % (labels[y_test[i]], labels[p_test[i]]));"
   ]
  },
  {
   "cell_type": "code",
   "execution_count": 0,
   "metadata": {
    "colab": {},
    "colab_type": "code",
    "id": "ERKglII9J0Sk"
   },
   "outputs": [],
   "source": []
  }
 ],
 "metadata": {
  "accelerator": "GPU",
  "colab": {
   "authorship_tag": "ABX9TyN8qsLxQmBy6hi8xnZWb68n",
   "collapsed_sections": [],
   "name": "TF2 Fashion MNIST.ipynb",
   "provenance": []
  },
  "kernelspec": {
   "display_name": "Python 3",
   "language": "python",
   "name": "python3"
  },
  "language_info": {
   "codemirror_mode": {
    "name": "ipython",
    "version": 3
   },
   "file_extension": ".py",
   "mimetype": "text/x-python",
   "name": "python",
   "nbconvert_exporter": "python",
   "pygments_lexer": "ipython3",
   "version": "3.7.3"
  }
 },
 "nbformat": 4,
 "nbformat_minor": 1
}
